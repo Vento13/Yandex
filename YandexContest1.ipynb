{
  "nbformat": 4,
  "nbformat_minor": 0,
  "metadata": {
    "colab": {
      "name": "YandexContest1.ipynb",
      "provenance": []
    },
    "kernelspec": {
      "name": "python3",
      "display_name": "Python 3"
    },
    "language_info": {
      "name": "python"
    }
  },
  "cells": [
    {
      "cell_type": "code",
      "metadata": {
        "id": "LPAyDkXLY5Co",
        "colab": {
          "base_uri": "https://localhost:8080/"
        },
        "outputId": "de3296ba-3c94-4d8e-ecb6-02137093092d"
      },
      "source": [
        "import math\n",
        "from scipy import stats\n",
        "\n",
        "def confidence_interval(sd, X, N, target_interval):\n",
        "    alpha = 1 - target_interval\n",
        "    z = abs(stats.norm.ppf(alpha/2))\n",
        "    se = sd / math.sqrt(N)\n",
        "    return (round(X - z * se,  2),  round(X + z * se,  2))\n",
        "\n",
        "print(confidence_interval(5, 10, 100, 0.99))"
      ],
      "execution_count": null,
      "outputs": [
        {
          "output_type": "stream",
          "name": "stdout",
          "text": [
            "(8.71, 11.29)\n"
          ]
        }
      ]
    },
    {
      "cell_type": "code",
      "metadata": {
        "id": "IyytaX9upzcG"
      },
      "source": [
        "import random\n",
        "import math\n",
        "def generate1():  \n",
        "    a = random.uniform(0, 1)  \n",
        "    b = random.uniform(0, 1)  \n",
        "    return (a * math.cos(2 * math.pi * b), a * math.sin(2 * math.pi * b))\n",
        "def generate2():  \n",
        "    while True:  \n",
        "        x = random.uniform(-1, 1)  \n",
        "        y = random.uniform(-1, 1)  \n",
        "        if x ** 2 + y ** 2 > 1:  \n",
        "            continue  \n",
        "        return (x, y)"
      ],
      "execution_count": null,
      "outputs": []
    },
    {
      "cell_type": "code",
      "metadata": {
        "id": "AyxEA-qSWh8t"
      },
      "source": [
        "def transform(s):\n",
        "  return [float(n) for n in s.replace('\\n', '').split(\" \")]"
      ],
      "execution_count": null,
      "outputs": []
    },
    {
      "cell_type": "code",
      "metadata": {
        "id": "sRrnxONy9ydR"
      },
      "source": [
        "data = [transform(i) for i in lines]"
      ],
      "execution_count": null,
      "outputs": []
    },
    {
      "cell_type": "code",
      "metadata": {
        "id": "Y3h1h5osXZXB"
      },
      "source": [
        "dt = []\n",
        "for arr in data:\n",
        "  dataset = {'x': [], 'y': []}\n",
        "  for i in range(len(arr)):\n",
        "    if i%2 == 0:\n",
        "      dataset['x'].append(arr[i])\n",
        "    else:\n",
        "      dataset['y'].append(arr[i])\n",
        "  dt.append(dataset)"
      ],
      "execution_count": null,
      "outputs": []
    },
    {
      "cell_type": "code",
      "metadata": {
        "id": "zgwxv1zZXzJm"
      },
      "source": [
        "cov = []\n",
        "det = []\n",
        "for d in dt:\n",
        "  c = np.cov(d['x'], d['y'])\n",
        "  cov.append(c)\n",
        "  det.append(np.linalg.det(c))"
      ],
      "execution_count": null,
      "outputs": []
    },
    {
      "cell_type": "code",
      "metadata": {
        "colab": {
          "base_uri": "https://localhost:8080/"
        },
        "id": "VOSGrMsAb8Sm",
        "outputId": "05b39d61-143e-400d-8af9-8100fb41ee3b"
      },
      "source": [
        "dett = [np.linalg.det(np.cov(d['x'], d['y'])) for d in dt]\n",
        "dett"
      ],
      "execution_count": null,
      "outputs": [
        {
          "output_type": "execute_result",
          "data": {
            "text/plain": [
              "[0.0, 0.0, 0.0]"
            ]
          },
          "metadata": {},
          "execution_count": 243
        }
      ]
    },
    {
      "cell_type": "code",
      "metadata": {
        "colab": {
          "base_uri": "https://localhost:8080/"
        },
        "id": "W-2WBuU0agPe",
        "outputId": "0f9cb0a5-bc27-4139-8729-cffefe2ecbd4"
      },
      "source": [
        "trashold = 4.17\n",
        "for d in det:\n",
        "  if d < trashold:\n",
        "    print(1)\n",
        "  else:\n",
        "    print(2)"
      ],
      "execution_count": null,
      "outputs": [
        {
          "output_type": "stream",
          "text": [
            "1\n",
            "1\n",
            "1\n"
          ],
          "name": "stdout"
        }
      ]
    },
    {
      "cell_type": "code",
      "metadata": {
        "id": "4A9x9NJCp7p0"
      },
      "source": [
        "# dt1 = []\n",
        "# dt2 = []\n",
        "# for j in range(100):\n",
        "#   dataset_1 = {'x': [], 'y': []}\n",
        "#   dataset_2 = {'x': [], 'y': []}\n",
        "\n",
        "#   for i in range(1000):\n",
        "#     (a,b) = generate1()\n",
        "#     dataset_1['x'].append(a);\n",
        "#     dataset_1['y'].append(b);\n",
        "\n",
        "#   dt1.append(dataset_1)\n",
        "\n",
        "#   for i in range(1000):\n",
        "#     (a,b) = generate2()\n",
        "#     dataset_2['x'].append(a);\n",
        "#     dataset_2['y'].append(b);\n",
        "\n",
        "#   dt2.append(dataset_2)\n"
      ],
      "execution_count": null,
      "outputs": []
    },
    {
      "cell_type": "code",
      "metadata": {
        "id": "9GmTgUI3juhK"
      },
      "source": [
        "l = []\n",
        "for i in range(100):\n",
        "  l_i = []\n",
        "  for iii in range(1000):\n",
        "    if i < 50:\n",
        "      (a,b) = generate1()\n",
        "    else:\n",
        "      (a,b) = generate2()\n",
        "    l_i.append(a)\n",
        "    l_i.append(b)\n",
        "  l_i = [str(i) for i in l_i]\n",
        "  l.append(' '.join(l_i))"
      ],
      "execution_count": null,
      "outputs": []
    },
    {
      "cell_type": "code",
      "metadata": {
        "id": "TELf9LiHjEa8"
      },
      "source": [
        "f = open('input.txt', 'w')\n",
        "for index in l:\n",
        "  f.write(index + '\\n')"
      ],
      "execution_count": null,
      "outputs": []
    },
    {
      "cell_type": "code",
      "metadata": {
        "id": "9LoatLVqxHgT"
      },
      "source": [
        "import matplotlib.pyplot as plt"
      ],
      "execution_count": null,
      "outputs": []
    },
    {
      "cell_type": "code",
      "metadata": {
        "colab": {
          "base_uri": "https://localhost:8080/",
          "height": 282
        },
        "id": "sFsHYbTy1PkY",
        "outputId": "0009028b-552d-4b47-eb30-e81ba6523e03"
      },
      "source": [
        "plt.plot(dataset_1['x'],dataset_1['y'], 'o')"
      ],
      "execution_count": null,
      "outputs": [
        {
          "output_type": "execute_result",
          "data": {
            "text/plain": [
              "[<matplotlib.lines.Line2D at 0x7f7ca8837550>]"
            ]
          },
          "metadata": {},
          "execution_count": 152
        },
        {
          "output_type": "display_data",
          "data": {
            "image/png": "[encoded data removed]",
            "text/plain": [
              "<Figure size 432x288 with 1 Axes>"
            ]
          },
          "metadata": {
            "needs_background": "light"
          }
        }
      ]
    },
    {
      "cell_type": "code",
      "metadata": {
        "colab": {
          "base_uri": "https://localhost:8080/",
          "height": 282
        },
        "id": "q60Mw9bX-EfU",
        "outputId": "50b78928-1814-4f7e-d156-9f54059dd98a"
      },
      "source": [
        "plt.plot(dataset_2['x'],dataset_2['y'], 'o')"
      ],
      "execution_count": null,
      "outputs": [
        {
          "output_type": "execute_result",
          "data": {
            "text/plain": [
              "[<matplotlib.lines.Line2D at 0x7f7ca87b4610>]"
            ]
          },
          "metadata": {},
          "execution_count": 153
        },
        {
          "output_type": "display_data",
          "data": {
            "image/png": "[encoded data removed]",
            "text/plain": [
              "<Figure size 432x288 with 1 Axes>"
            ]
          },
          "metadata": {
            "needs_background": "light"
          }
        }
      ]
    },
    {
      "cell_type": "code",
      "metadata": {
        "colab": {
          "base_uri": "https://localhost:8080/"
        },
        "id": "Hkqp_BHW-JTM",
        "outputId": "b7696ac1-95f2-4c21-c727-936239748cbd"
      },
      "source": [
        "cov_1 = np.cov(dataset_1['x'], dataset_1['y'])\n",
        "cov_1"
      ],
      "execution_count": null,
      "outputs": [
        {
          "output_type": "execute_result",
          "data": {
            "text/plain": [
              "array([[ 0.17162204, -0.00567874],\n",
              "       [-0.00567874,  0.17369489]])"
            ]
          },
          "metadata": {},
          "execution_count": 169
        }
      ]
    },
    {
      "cell_type": "code",
      "metadata": {
        "colab": {
          "base_uri": "https://localhost:8080/"
        },
        "id": "9J9uqKroJm2f",
        "outputId": "be7437ef-5b17-4cb9-a8a2-ec503eb32056"
      },
      "source": [
        "cov_2 = np.cov(dataset_2['x'], dataset_2['y'])\n",
        "cov_2"
      ],
      "execution_count": null,
      "outputs": [
        {
          "output_type": "execute_result",
          "data": {
            "text/plain": [
              "array([[2.43734410e-01, 1.58152738e-05],\n",
              "       [1.58152738e-05, 2.45014276e-01]])"
            ]
          },
          "metadata": {},
          "execution_count": 170
        }
      ]
    },
    {
      "cell_type": "code",
      "metadata": {
        "id": "so5hNf3bJtDC"
      },
      "source": [
        "cov1 =[]\n",
        "det1 = []\n",
        "for d in dt1:\n",
        "  cov = np.cov(d['x'], d['y'])\n",
        "  cov1.append(cov)\n",
        "  det1.append(np.linalg.det(cov))"
      ],
      "execution_count": null,
      "outputs": []
    },
    {
      "cell_type": "code",
      "metadata": {
        "id": "ZEV6oXgaMAoU"
      },
      "source": [
        "cov2 =[]\n",
        "det2 = []\n",
        "for d in dt2:\n",
        "  cov = np.cov(d['x'], d['y'])\n",
        "  cov2.append(np.cov(d['x'], d['y']))\n",
        "  det2.append(np.linalg.det(cov))"
      ],
      "execution_count": null,
      "outputs": []
    },
    {
      "cell_type": "code",
      "metadata": {
        "id": "yABccgokiR9O"
      },
      "source": [
        "det_1 = [np.linalg.det(np.cov(d['x'], d['y'])) for d in dt1]"
      ],
      "execution_count": null,
      "outputs": []
    },
    {
      "cell_type": "code",
      "metadata": {
        "colab": {
          "base_uri": "https://localhost:8080/"
        },
        "id": "sevjdlhCMuJv",
        "outputId": "1928a03b-1d3c-409d-89da-ad1b547f7bbc"
      },
      "source": [
        "(sum(det_1)/len(det_1))"
      ],
      "execution_count": null,
      "outputs": [
        {
          "output_type": "execute_result",
          "data": {
            "text/plain": [
              "0.027880091598036585"
            ]
          },
          "metadata": {},
          "execution_count": 250
        }
      ]
    },
    {
      "cell_type": "code",
      "metadata": {
        "colab": {
          "base_uri": "https://localhost:8080/"
        },
        "id": "bvbJhUMVMBpf",
        "outputId": "f2db3122-ef4d-49f5-ff93-039309ed3b69"
      },
      "source": [
        "(sum(det1)/len(det1))"
      ],
      "execution_count": null,
      "outputs": [
        {
          "output_type": "execute_result",
          "data": {
            "text/plain": [
              "0.02767814527463941"
            ]
          },
          "metadata": {},
          "execution_count": 271
        }
      ]
    },
    {
      "cell_type": "code",
      "metadata": {
        "colab": {
          "base_uri": "https://localhost:8080/"
        },
        "id": "hbwgVJWAMtOn",
        "outputId": "5bcfc6d5-b432-4fe7-f4b7-be1b5c2ce7a5"
      },
      "source": [
        "min(det1)"
      ],
      "execution_count": null,
      "outputs": [
        {
          "output_type": "execute_result",
          "data": {
            "text/plain": [
              "0.022869782076804162"
            ]
          },
          "metadata": {},
          "execution_count": 273
        }
      ]
    },
    {
      "cell_type": "code",
      "metadata": {
        "colab": {
          "base_uri": "https://localhost:8080/"
        },
        "id": "jijBD_I4MOuV",
        "outputId": "717d8f95-1cf4-46ca-a042-6bdc5bcb3a95"
      },
      "source": [
        "max(det1)"
      ],
      "execution_count": null,
      "outputs": [
        {
          "output_type": "execute_result",
          "data": {
            "text/plain": [
              "0.03076161411822591"
            ]
          },
          "metadata": {},
          "execution_count": 274
        }
      ]
    },
    {
      "cell_type": "code",
      "metadata": {
        "colab": {
          "base_uri": "https://localhost:8080/"
        },
        "id": "FY8IaJsgPPYh",
        "outputId": "2c5f28cc-7cc2-43f5-9511-d80a432a7951"
      },
      "source": [
        "min(det2)"
      ],
      "execution_count": null,
      "outputs": [
        {
          "output_type": "execute_result",
          "data": {
            "text/plain": [
              "0.05689562165096534"
            ]
          },
          "metadata": {},
          "execution_count": 275
        }
      ]
    },
    {
      "cell_type": "code",
      "metadata": {
        "colab": {
          "base_uri": "https://localhost:8080/"
        },
        "id": "tnzsxEN6PRAZ",
        "outputId": "acb0abc9-d425-40e5-a2bc-d00631c14cea"
      },
      "source": [
        "max(det2)"
      ],
      "execution_count": null,
      "outputs": [
        {
          "output_type": "execute_result",
          "data": {
            "text/plain": [
              "0.06710395588769871"
            ]
          },
          "metadata": {},
          "execution_count": 276
        }
      ]
    },
    {
      "cell_type": "code",
      "metadata": {
        "colab": {
          "base_uri": "https://localhost:8080/",
          "height": 282
        },
        "id": "mEEPodAIPSzR",
        "outputId": "f3b4ac28-99e2-483c-fef5-7fcd92af2750"
      },
      "source": [
        "plt.plot(det1, 'o')\n",
        "plt.plot(det2, 'o')"
      ],
      "execution_count": null,
      "outputs": [
        {
          "output_type": "execute_result",
          "data": {
            "text/plain": [
              "[<matplotlib.lines.Line2D at 0x7f7ca6e74210>]"
            ]
          },
          "metadata": {},
          "execution_count": 277
        },
        {
          "output_type": "display_data",
          "data": {
            "image/png": "[encoded data removed]",
            "text/plain": [
              "<Figure size 432x288 with 1 Axes>"
            ]
          },
          "metadata": {
            "needs_background": "light"
          }
        }
      ]
    },
    {
      "cell_type": "code",
      "metadata": {
        "colab": {
          "base_uri": "https://localhost:8080/"
        },
        "id": "VyWPd9_rPgfE",
        "outputId": "36ef89b2-bac6-4f66-8765-5b141ca21e4f"
      },
      "source": [
        "import numpy as np\n",
        "\n",
        "with open('input.txt') as f:\n",
        "    lines = f.readlines()\n",
        "\n",
        "def transform(s):\n",
        "  return [float(n) for n in s.replace('\\n', '').split(\" \")]\n",
        "\n",
        "data = [transform(i) for i in lines]\n",
        "dt = []\n",
        "\n",
        "for arr in data:\n",
        "  dataset = {'x': [], 'y': []}\n",
        "  for i in range(len(arr)):\n",
        "    if i%2 == 0:\n",
        "      dataset['x'].append(arr[i])\n",
        "    else:\n",
        "      dataset['y'].append(arr[i])\n",
        "  dt.append(dataset)\n",
        "\n",
        "dett = [np.linalg.det(np.cov(d['x'], d['y'])) for d in dt]\n",
        "\n",
        "trashold = 0.0417\n",
        "\n",
        "for d in det:\n",
        "  if d < trashold:\n",
        "    print(1)\n",
        "  else:\n",
        "    print(2)"
      ],
      "execution_count": null,
      "outputs": [
        {
          "output_type": "stream",
          "text": [
            "1\n",
            "1\n",
            "1\n"
          ],
          "name": "stdout"
        }
      ]
    },
    {
      "cell_type": "code",
      "metadata": {
        "id": "QfVInoj4VHn1"
      },
      "source": [
        ""
      ],
      "execution_count": null,
      "outputs": []
    }
  ]
}